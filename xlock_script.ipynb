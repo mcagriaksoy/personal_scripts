{
  "nbformat": 4,
  "nbformat_minor": 0,
  "metadata": {
    "colab": {
      "name": "xlock_script.ipynb",
      "provenance": [],
      "authorship_tag": "ABX9TyPwYFOqdGF2IE56mZBw9qhf",
      "include_colab_link": true
    },
    "kernelspec": {
      "name": "python3",
      "display_name": "Python 3"
    },
    "language_info": {
      "name": "python"
    }
  },
  "cells": [
    {
      "cell_type": "markdown",
      "metadata": {
        "id": "view-in-github",
        "colab_type": "text"
      },
      "source": [
        "<a href=\"https://colab.research.google.com/github/mcagriaksoy/personal_scripts/blob/main/xlock_script.ipynb\" target=\"_parent\"><img src=\"https://colab.research.google.com/assets/colab-badge.svg\" alt=\"Open In Colab\"/></a>"
      ]
    },
    {
      "cell_type": "code",
      "metadata": {
        "id": "JTVT1JdqCmyE"
      },
      "source": [
        "##Selman cagri"
      ],
      "execution_count": null,
      "outputs": []
    },
    {
      "cell_type": "code",
      "metadata": {
        "id": "A_aUO5XGDGkX"
      },
      "source": [
        "with open('/XLOCK_TRY3.csv') as f:\n",
        "    contents = f.readlines()"
      ],
      "execution_count": null,
      "outputs": []
    },
    {
      "cell_type": "code",
      "metadata": {
        "id": "MXxdy0F8DRKA"
      },
      "source": [
        "print(contents)"
      ],
      "execution_count": null,
      "outputs": []
    },
    {
      "cell_type": "code",
      "metadata": {
        "id": "701BxldeEu-V"
      },
      "source": [
        "f2 = open('/XLOCK_TRY4.csv','w')"
      ],
      "execution_count": null,
      "outputs": []
    },
    {
      "cell_type": "code",
      "metadata": {
        "id": "mEggZHQXDWHi"
      },
      "source": [
        "for content in contents:\n",
        "  content=content.strip()\n",
        "  countervar = content.count(';')\n",
        "  if countervar < 37 :\n",
        "    for i in range (37-countervar):\n",
        "      content=(content+';')\n",
        "    content = content + '\\n'  \n",
        "  f2.writelines(content)\n",
        "  "
      ],
      "execution_count": null,
      "outputs": []
    },
    {
      "cell_type": "code",
      "metadata": {
        "id": "j7s55htQEc2l"
      },
      "source": [
        "f2.close()"
      ],
      "execution_count": null,
      "outputs": []
    },
    {
      "cell_type": "markdown",
      "metadata": {
        "id": "JOu0VJB_CtC2"
      },
      "source": [
        "# New section"
      ]
    }
  ]
}